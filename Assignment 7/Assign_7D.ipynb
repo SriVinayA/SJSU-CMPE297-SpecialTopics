{
  "cells": [
    {
      "cell_type": "code",
      "execution_count": null,
      "metadata": {
        "id": "4tyL3NSYTi-N"
      },
      "outputs": [],
      "source": [
        "import google.generativeai as genai\n",
        "\n",
        "# Set your API key\n",
        "genai.configure(api_key=\"GEMINI_API_KEY\")"
      ]
    },
    {
      "cell_type": "code",
      "execution_count": null,
      "metadata": {
        "id": "kUCwMV0XTi-O",
        "outputId": "c00f9b74-ba88-4170-851f-53025b91b2fd"
      },
      "outputs": [
        {
          "name": "stdout",
          "output_type": "stream",
          "text": [
            "The time complexity of `example_function(data)` is **O(n)**, where n is the length of the input list `data`.\n",
            "\n",
            "**Explanation:**\n",
            "\n",
            "The `sum()` function in Python iterates through each element in the input list `data` once to calculate the sum.  Therefore, the number of operations is directly proportional to the size of the input list.  This linear relationship is characteristic of O(n) complexity.  The amount of work scales linearly with the input size.\n",
            "\n"
          ]
        }
      ],
      "source": [
        "# Define the function to analyze\n",
        "def example_function(data):\n",
        "    return sum(data)\n",
        "\n",
        "\n",
        "# Prepare the function code as a string\n",
        "function_code = '''\n",
        "def example_function(data):\n",
        "    return sum(data)\n",
        "'''\n",
        "\n",
        "# Create a model instance\n",
        "model = genai.GenerativeModel('gemini-1.5-flash')\n",
        "\n",
        "# Formulate the prompt\n",
        "prompt = f\"Analyze the time complexity of the following Python function:\\n\\n{function_code}\\n\\nProvide the Big-O notation and a brief explanation.\"\n",
        "\n",
        "# Generate the response\n",
        "response = model.generate_content(prompt)\n",
        "\n",
        "# Output the analysis\n",
        "print(response.text)"
      ]
    }
  ],
  "metadata": {
    "kernelspec": {
      "display_name": "Python 3",
      "language": "python",
      "name": "python3"
    },
    "language_info": {
      "codemirror_mode": {
        "name": "ipython",
        "version": 3
      },
      "file_extension": ".py",
      "mimetype": "text/x-python",
      "name": "python",
      "nbconvert_exporter": "python",
      "pygments_lexer": "ipython3",
      "version": "3.12.7"
    },
    "colab": {
      "provenance": []
    }
  },
  "nbformat": 4,
  "nbformat_minor": 0
}