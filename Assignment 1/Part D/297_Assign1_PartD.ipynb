{
  "nbformat": 4,
  "nbformat_minor": 0,
  "metadata": {
    "colab": {
      "provenance": []
    },
    "kernelspec": {
      "name": "python3",
      "display_name": "Python 3"
    },
    "language_info": {
      "name": "python"
    }
  },
  "cells": [
    {
      "cell_type": "code",
      "source": [
        "import requests\n",
        "import google.generativeai as genai\n",
        "from google.colab import userdata\n",
        "\n",
        "GOOGLE_API_KEY=userdata.get('GOOGLE_API_KEY')\n",
        "genai.configure(api_key=GOOGLE_API_KEY)"
      ],
      "metadata": {
        "id": "GdUTn5c6nPMj"
      },
      "execution_count": null,
      "outputs": []
    },
    {
      "cell_type": "code",
      "source": [
        "api_key=GOOGLE_API_KEY"
      ],
      "metadata": {
        "id": "NZjn3fmbnUb2"
      },
      "execution_count": null,
      "outputs": []
    },
    {
      "cell_type": "markdown",
      "source": [
        "## 1. Summarizing Complex Legal Documents:"
      ],
      "metadata": {
        "id": "uTvJUfKxoLmH"
      }
    },
    {
      "cell_type": "code",
      "source": [
        "def summarize_legal(document_text):\n",
        "  prompt = f\"\"\"\n",
        "  Summarize the following legal document in plain English, highlighting key obligations and potential risks:\n",
        "\n",
        "  {document_text}\n",
        "  \"\"\"\n",
        "  response = genai.GenerativeModel(\"gemini-1.5-flash\").generate_content(prompt)\n",
        "  return response.text\n",
        "\n",
        "# Example Usage (replace with actual legal document text)\n",
        "legal_doc = \"\"\"... A large language model (LLM) is a computational model capable of language generation or other natural language processing tasks. As language models, LLMs acquire these abilities by learning statistical relationships from vast amounts of text during a self-supervised and semi-supervised training process.[1]\n",
        "\n",
        "The largest and most capable LLMs, as of August 2024, are artificial neural networks built with a decoder-only transformer-based architecture, which enables efficient processing and generation of large-scale text data. Modern models can be fine-tuned for specific tasks or can be guided by prompt engineering.[2] These models acquire predictive power regarding syntax, semantics, and ontologies[3] inherent in human language corpora, but they also inherit inaccuracies and biases present in the data they are trained on.[4]\n",
        "\n",
        "Some notable LLMs are OpenAI's GPT series of models (e.g., GPT-3.5, GPT-4 and GPT-4o; used in ChatGPT and Microsoft Copilot), Google's Gemini (the latter of which is currently used in the chatbot of the same name), Meta's LLaMA family of models, IBM's Granite models initially released with Watsonx, Anthropic's Claude models, and Mistral AI's models.\n",
        "\n",
        "History\n",
        "Before 2017, there were a few language models that were large as compared to capacities then available. In the 1990s, the IBM alignment models pioneered statistical language modelling. A smoothed n-gram model in 2001 trained on 0.3 billion words achieved then-SOTA perplexity.[5] In the 2000s, as Internet use became prevalent, some researchers constructed Internet-scale language datasets (\"web as corpus\"[6]), upon which they trained statistical language models.[7][8] In 2009, in most language processing tasks, statistical language models dominated over symbolic language models, as they can usefully ingest large datasets.[9]\n",
        "\n",
        "After neural networks became dominant in image processing around 2012, they were applied to language modelling as well. Google converted its translation service to Neural Machine Translation in 2016. As it was before Transformers, it was done by seq2seq deep LSTM networks.\n",
        "\n",
        "\n",
        "An illustration of main components of the transformer model from the original paper, where layers were normalized after (instead of before) multiheaded attention\n",
        "At the 2017 NeurIPS conference, Google researchers introduced the transformer architecture in their landmark paper \"Attention Is All You Need\". This paper's goal was to improve upon 2014 Seq2seq technology,[10] and was based mainly on the attention mechanism developed by Bahdanau et al. in 2014.[11] The following year in 2018, BERT was introduced and quickly became \"ubiquitous\".[12] Though the original transformer has both encoder and decoder blocks, BERT is an encoder-only model.\n",
        "\n",
        "Although decoder-only GPT-1 was introduced in 2018, it was GPT-2 in 2019 that caught widespread attention because OpenAI at first deemed it too powerful to release publicly, out of fear of malicious use.[13] GPT-3 in 2020 went a step further and as of 2024 is available only via API with no offering of downloading the model to execute locally. But it was the 2022 consumer-facing browser-based ChatGPT that captured the imaginations of the general population and caused some media hype and online buzz.[14] The 2023 GPT-4 was praised for its increased accuracy and as a \"holy grail\" for its multimodal capabilities.[15] OpenAI did not reveal high-level architecture and the number of parameters of GPT-4.\n",
        "\n",
        "Competing language models have for the most part been attempting to equal the GPT series, at least in terms of number of parameters.[16]\n",
        "\n",
        "Since 2022, source-available models have been gaining popularity, especially at first with BLOOM and LLaMA, though both have restrictions on the field of use. Mistral AI's models Mistral 7B and Mixtral 8x7b have the more permissive Apache License. As of June 2024, The Instruction fine tuned variant of the Llama 3 70 billion parameter model is the most powerful open LLM according to the LMSYS Chatbot Arena Leaderboard, being more powerful than GPT-3.5 but not as powerful as GPT-4.[17]\n",
        "\n",
        "As of 2024, the largest and most capable models are all based on the Transformer architecture. Some recent implementations are based on other architectures, such as recurrent neural network variants and Mamba (a state space model).[18][19][20] ...\"\"\"\n",
        "summary = summarize_legal(legal_doc)\n",
        "print(summary)"
      ],
      "metadata": {
        "colab": {
          "base_uri": "https://localhost:8080/",
          "height": 513
        },
        "id": "DpEmrIb_nu60",
        "outputId": "98df8691-2d1f-49f2-ab40-0c67804b1d94"
      },
      "execution_count": null,
      "outputs": [
        {
          "output_type": "stream",
          "name": "stdout",
          "text": [
            "## Large Language Models: A Simple Explanation\n",
            "\n",
            "This document talks about **Large Language Models (LLMs)**, which are essentially powerful computer programs that can understand and generate human-like text. These models are trained on vast amounts of data and can perform various tasks like writing different kinds of text, translating languages, and even answering questions.\n",
            "\n",
            "**Here's what you need to know:**\n",
            "\n",
            "**Key Obligations:**\n",
            "\n",
            "* **Training Data:** LLMs are trained on massive datasets, which inevitably contain biases and inaccuracies. Developers have the obligation to be aware of these biases and mitigate their impact in the final model.\n",
            "* **Transparency:** Developers should be transparent about the data used to train the models and the potential biases they might contain.\n",
            "* **Responsible Use:** LLMs are powerful tools, and their development and use need to be responsible. This means considering the potential risks and taking steps to minimize harm.\n",
            "\n",
            "**Potential Risks:**\n",
            "\n",
            "* **Bias and Discrimination:** LLMs can perpetuate biases present in the training data, leading to unfair or discriminatory outputs.\n",
            "* **Misinformation and Manipulation:** LLMs can generate convincingly realistic text, which can be used to spread misinformation or manipulate people.\n",
            "* **Privacy Concerns:** LLMs may be used to analyze personal data, raising privacy concerns.\n",
            "* **Job Displacement:** LLMs could automate tasks currently performed by humans, potentially leading to job displacement.\n",
            "\n",
            "**Important Points:**\n",
            "\n",
            "* **Development:** Most powerful LLMs today are based on a technology called \"Transformer,\" which allows for efficient processing of large amounts of text.\n",
            "* **Accessibility:** Some LLMs are available to the public through APIs, while others are only accessible through specialized platforms.\n",
            "* **Competition:** There is ongoing competition to develop the most powerful LLMs, with companies like OpenAI, Google, and Meta leading the way.\n",
            "* **Open Source Models:** Open source LLMs are becoming increasingly popular, allowing for greater transparency and community collaboration.\n",
            "\n",
            "**In short, LLMs are exciting new technology with significant potential, but their development and use must be approached with caution and responsibility.**\n",
            "\n"
          ]
        }
      ]
    },
    {
      "cell_type": "markdown",
      "source": [
        "## 2. Personalized Educational Content Generation:"
      ],
      "metadata": {
        "id": "eptKfJ6goTlP"
      }
    },
    {
      "cell_type": "code",
      "source": [
        "def generate_lesson(student_profile, topic):\n",
        "  prompt = f\"\"\"\n",
        "  Generate a personalized lesson plan on {topic} for a student with the following profile:\n",
        "  {student_profile}\n",
        "\n",
        "  Include learning objectives, engaging activities, and assessment methods tailored to the student's needs and learning style.\n",
        "  \"\"\"\n",
        "  response = genai.GenerativeModel(\"gemini-1.5-flash\").generate_content(prompt)\n",
        "  return response.text\n",
        "\n",
        "# Example Usage (replace with actual student profile and topic)\n",
        "student_profile = {\n",
        "    \"age\": 15,\n",
        "    \"learning_style\": \"visual\",\n",
        "    \"interests\": [\"science\", \"history\"],\n",
        "    \"prior_knowledge\": \"...\"\n",
        "}\n",
        "topic = \"The French Revolution\"\n",
        "lesson_plan = generate_lesson(student_profile, topic)\n",
        "print(lesson_plan)"
      ],
      "metadata": {
        "colab": {
          "base_uri": "https://localhost:8080/",
          "height": 870
        },
        "id": "0d7SquQhn4Ao",
        "outputId": "1b937cf1-edbd-4681-9521-e328d55049b0"
      },
      "execution_count": null,
      "outputs": [
        {
          "output_type": "stream",
          "name": "stdout",
          "text": [
            "## The French Revolution: A Visual Journey\n",
            "\n",
            "**Student Profile:**\n",
            "\n",
            "* **Age:** 15\n",
            "* **Learning Style:** Visual\n",
            "* **Interests:** Science, History\n",
            "* **Prior Knowledge:** [Please specify the student's prior knowledge on the French Revolution here. This will allow for a more tailored lesson plan.]\n",
            "\n",
            "**Learning Objectives:**\n",
            "\n",
            "* **Understand the key causes of the French Revolution.**\n",
            "* **Identify the major events and figures of the Revolution.**\n",
            "* **Analyze the impact of the Revolution on France and the world.**\n",
            "* **Develop critical thinking skills through analyzing primary source materials.**\n",
            "\n",
            "**Engaging Activities:**\n",
            "\n",
            "1. **Visual Timeline:**  Create a visual timeline of the French Revolution, using images and short descriptions to represent key events. The timeline should be interactive, allowing the student to explore different aspects of the Revolution.\n",
            "\n",
            "    * **Connection to Science:**  The student can use a timeline creation tool or software that utilizes a visual interface, connecting to their interest in science and technology.\n",
            "\n",
            "2. **\"Day in the Life\" Graphic Novel:** The student will create a graphic novel depicting a \"day in the life\" of a peasant, a member of the bourgeoisie, or a noble during different stages of the Revolution. This activity will encourage visual storytelling and empathy.\n",
            "\n",
            "    * **Connection to History:**  The student can research specific historical figures or events to add authenticity to their graphic novel.\n",
            "\n",
            "3. **Revolutionary Posters:** The student will create propaganda posters from the perspective of different groups during the Revolution (e.g., the Third Estate, the Royalists, the Jacobins). This activity will encourage the student to think critically about the different perspectives and motivations of the time.\n",
            "\n",
            "    * **Connection to Science:** The student can utilize graphic design tools or software to create their posters, exploring the scientific principles behind visual communication.\n",
            "\n",
            "4. **Interactive Map Exploration:**  Use an interactive map to explore the geographical impact of the Revolution. Students can trace the spread of revolutionary ideas, identify key battle locations, and understand the political divisions within France.\n",
            "\n",
            "    * **Connection to Science:**  The student can analyze the map's data and patterns, connecting to their interest in scientific observation and analysis.\n",
            "\n",
            "**Assessment Methods:**\n",
            "\n",
            "* **Timeline Presentation:** The student will present their visual timeline to the class, highlighting key events and their significance.\n",
            "* **Graphic Novel Analysis:** The student will analyze their own graphic novel, discussing the choices they made and how their \"day in the life\" reflects the broader historical context.\n",
            "* **Poster Debate:**  The student will present their propaganda poster and engage in a debate with classmates, arguing from their chosen group's perspective.\n",
            "* **Map Interpretation:** The student will write a short essay interpreting the data and patterns they observed on the interactive map.\n",
            "\n",
            "**Adapting the Lesson:**\n",
            "\n",
            "* **Prior knowledge:** Adapt the level of detail and complexity of the activities based on the student's prior knowledge of the French Revolution.\n",
            "* **Interests:** Incorporate relevant scientific concepts or examples into the activities to further engage the student's interest.\n",
            "* **Learning Style:**  Provide opportunities for visual learning through the use of images, videos, and interactive tools throughout the lesson.\n",
            "\n",
            "By incorporating these visual elements and engaging activities, this lesson plan aims to provide a stimulating and effective learning experience for the student, fostering a deep understanding of the French Revolution while catering to their specific learning style and interests. \n",
            "\n"
          ]
        }
      ]
    },
    {
      "cell_type": "markdown",
      "source": [
        "## 3. Cross-Lingual Literature Analysis:"
      ],
      "metadata": {
        "id": "xSNEm5dNoeKg"
      }
    },
    {
      "cell_type": "code",
      "source": [
        "def analyze_literature(text, original_language, target_language):\n",
        "  prompt = f\"\"\"\n",
        "  Analyze the following text, originally written in {original_language},\n",
        "  and provide insights into its themes, character development, and symbolism.\n",
        "  Translate key passages and analysis into {target_language}.\n",
        "\n",
        "  Text: {text}\n",
        "  \"\"\"\n",
        "  response = genai.GenerativeModel(\"gemini-1.5-flash\").generate_content(prompt)\n",
        "  return response.text\n",
        "\n",
        "# Example Usage (replace with actual text)\n",
        "text = \"\"\"... En un rincón apartado de la sierra, donde el viento parece susurrar secretos olvidados, se encontraba el pequeño pueblo de San Álvaro. Este lugar era conocido por sus paisajes impresionantes y por el enigmático Lago de los Susurros. La leyenda decía que, en las noches más tranquilas, el lago podía hablar a aquellos que sabían escuchar.\n",
        "\n",
        "Clara, una joven con el corazón lleno de curiosidad, había escuchado esas historias desde niña. Su abuela solía contarle cuentos sobre cómo el lago susurraba historias antiguas a quienes se acercaban con intenciones puras. A medida que crecía, Clara sentía una creciente fascinación por el misterio que envolvía aquel lugar.\n",
        "\n",
        "Un verano, decidida a descubrir la verdad detrás de las leyendas, Clara decidió pasar una semana en San Álvaro. Se alojó en la antigua casa de su abuela, ahora deshabitada, y comenzó su exploración. Cada mañana, se aventuraba al lago, observando el reflejo de las montañas en sus aguas cristalinas y esperando escuchar el tan ansiado susurro. ...\"\"\"\n",
        "analysis = analyze_literature(text, \"Spanish\", \"English\")\n",
        "print(analysis)"
      ],
      "metadata": {
        "colab": {
          "base_uri": "https://localhost:8080/",
          "height": 513
        },
        "id": "XerkcUYroZAf",
        "outputId": "cafc5cc8-5788-4ea3-c485-023284bae5dd"
      },
      "execution_count": null,
      "outputs": [
        {
          "output_type": "stream",
          "name": "stdout",
          "text": [
            "## Analysis of the Spanish Text:\n",
            "\n",
            "This excerpt introduces a classic tale filled with mystery, folklore, and a protagonist driven by curiosity and a desire to unravel the truth. \n",
            "\n",
            "**Themes:**\n",
            "\n",
            "* **Mystery and Folklore:** The text establishes a strong sense of mystery surrounding the Lake of Whispers and its ability to speak. The legend, passed down through generations, adds an element of the supernatural and reinforces the power of storytelling.\n",
            "* **Curiosity and Exploration:** Clara embodies the spirit of adventure, driven by her fascination with the unknown. She seeks to uncover the truth behind the legend, demonstrating the human need to understand and explore the world around them.\n",
            "* **Nature and Connection:** The natural setting, described as \"impressively beautiful,\" plays a crucial role. The lake and its surrounding mountains create a sense of awe and wonder, highlighting the connection between humanity and the natural world.\n",
            "\n",
            "**Character Development:**\n",
            "\n",
            "* **Clara:** The protagonist is introduced as a young woman with a \"curious heart,\" suggesting a thirst for knowledge and a sense of wonder. Her strong connection to her grandmother's stories and her decision to spend a week at San Álvaro demonstrate her determination and open mind. \n",
            "\n",
            "**Symbolism:**\n",
            "\n",
            "* **The Lake of Whispers:** The lake itself symbolizes the unknown and the power of nature. Its ability to \"speak\" suggests a connection to a deeper truth or wisdom that can be accessed through careful listening.\n",
            "* **The Mountains:** The majestic mountains, reflected in the lake's waters, could represent obstacles and challenges that Clara must overcome in her quest for truth. Their presence also emphasizes the vastness and wonder of the natural world.\n",
            "* **The Old House:** The abandoned house, where Clara chooses to stay, represents the past and its legacy. It could symbolize family history, tradition, and the weight of stories that are passed down through generations.\n",
            "\n",
            "**Key Passages and Translations:**\n",
            "\n",
            "* **\"En un rincón apartado de la sierra, donde el viento parece susurrar secretos olvidados, se encontraba el pequeño pueblo de San Álvaro.\"** (Translation: \"In a secluded corner of the mountain range, where the wind seems to whisper forgotten secrets, lay the small town of San Álvaro.\") This evocative opening establishes the isolated and mysterious nature of the setting.\n",
            "* **\"La leyenda decía que, en las noches más tranquilas, el lago podía hablar a aquellos que sabían escuchar.\"** (Translation: \"Legend said that, on the quietest nights, the lake could speak to those who knew how to listen.\") This line introduces the key element of the story: the lake's ability to communicate with those worthy of its wisdom.\n",
            "* **\"A medida que crecía, Clara sentía una creciente fascinación por el misterio que envolvía aquel lugar.\"** (Translation: \"As she grew, Clara felt a growing fascination with the mystery that surrounded that place.\") This passage highlights Clara's unwavering curiosity and her determination to unravel the truth behind the lake's legend.\n",
            "\n",
            "**Overall, the text presents a compelling beginning to a story about a young woman seeking to understand the mysteries of her world. Through the use of vivid imagery, a captivating setting, and a strong, curious protagonist, it sets the stage for a journey of discovery, exploration, and perhaps, a deeper connection with the natural world.** \n",
            "\n"
          ]
        }
      ]
    },
    {
      "cell_type": "markdown",
      "source": [
        "## 4. Creative Writing Assistance with Worldbuilding:"
      ],
      "metadata": {
        "id": "S0Mewehoon5x"
      }
    },
    {
      "cell_type": "code",
      "source": [
        "def expand_world(world_description, prompt):\n",
        "  prompt = f\"\"\"\n",
        "  Based on the following world description:\n",
        "\n",
        "  {world_description}\n",
        "\n",
        "  {prompt}\n",
        "  \"\"\"\n",
        "  response = genai.GenerativeModel(\"gemini-1.5-flash\").generate_content(prompt)\n",
        "  return response.text\n",
        "\n",
        "# Example Usage\n",
        "world_description = \"\"\"\n",
        "A fantasy world where magic is fading, technology is emerging, and ancient prophecies are unfolding...\n",
        "\"\"\"\n",
        "prompt = \"Describe a bustling city in this world, focusing on the clash between magic and technology.\"\n",
        "city_description = expand_world(world_description, prompt)\n",
        "print(city_description)"
      ],
      "metadata": {
        "colab": {
          "base_uri": "https://localhost:8080/",
          "height": 275
        },
        "id": "CxZb-oOSoiGw",
        "outputId": "8ff0340b-94cb-4ce5-c43f-0d85b69eb591"
      },
      "execution_count": null,
      "outputs": [
        {
          "output_type": "stream",
          "name": "stdout",
          "text": [
            "The city of Novum pulsed with a chaotic energy, a symphony of clang and clatter, sizzling sparks and the hushed murmur of ancient incantations. It was a city built on contradictions, a place where the ghosts of a fading magic battled with the cold steel of burgeoning technology.\n",
            "\n",
            "Cobblestone streets, worn smooth by centuries of arcane footfall, now hummed with the rumble of steam-powered carriages. Towering spires, once imbued with enchantments that whispered secrets to the wind, now sported antennae that snagged at the ether, seeking signals from beyond the horizon.\n",
            "\n",
            "The heart of Novum was the Market Square, a sprawling labyrinth of stalls where magic and technology clashed in a dizzying array. A wizened old woman sold potions brewed with moonbeams, her voice a raspy melody, while next to her, a young tinker hawked his latest invention, a clockwork contraption that could predict the weather with unsettling accuracy.\n",
            "\n",
            "Glowing orbs, powered by fading ley lines, illuminated the streets alongside gas lamps that flickered with a sulphurous glow. In the workshops of Novum, alchemists toiled alongside engineers, their experiments fueled by a shared ambition - to find a way to bridge the gap between magic and technology. \n",
            "\n",
            "Some, like the enigmatic Master Alaric, a mage with eyes like burning embers, clung to the ancient ways, seeking to harness the dwindling power of the world's spirit. Others, like the ambitious engineer, Lyra, saw the future in steam and steel, convinced that technology held the key to a new era of progress.\n",
            "\n",
            "The clash between these factions was palpable, a simmering tension that crackled in the air like static electricity. Rumors of a prophecy, whispered in hushed tones in smoky taverns, spoke of a chosen one, a bridge between magic and technology, who would usher in a new age.\n",
            "\n",
            "Novum was a city on the precipice of change, a living, breathing testament to the power of both magic and technology, a crucible where the fate of the world itself was being forged. It was a city that hummed with a restless energy, a city where every sunrise brought with it the promise of both hope and fear, where ancient prophecies met modern inventions, and where the future was being written in fire, smoke, and steel. \n",
            "\n"
          ]
        }
      ]
    },
    {
      "cell_type": "markdown",
      "source": [
        "## 5. Interactive Historical Figure Simulation:"
      ],
      "metadata": {
        "id": "NHfakM4Co7o5"
      }
    },
    {
      "cell_type": "code",
      "source": [
        "def talk_to_figure(figure_bio, user_question):\n",
        "  prompt = f\"\"\"\n",
        "  Imagine you are {figure_bio}.\n",
        "\n",
        "  A user has asked you the following question: {user_question}\n",
        "\n",
        "  Respond in a way that is consistent with your personality and the historical context.\n",
        "  \"\"\"\n",
        "  response = genai.GenerativeModel(\"gemini-1.5-flash\").generate_content(prompt)\n",
        "  return response.text\n",
        "\n",
        "# Example Usage\n",
        "figure_bio = \"Marie Curie, a pioneering scientist in the early 20th century\"\n",
        "user_question = \"What were the biggest challenges you faced as a woman in science?\"\n",
        "marie_response = talk_to_figure(figure_bio, user_question)\n",
        "print(marie_response)"
      ],
      "metadata": {
        "colab": {
          "base_uri": "https://localhost:8080/",
          "height": 207
        },
        "id": "g-zt0ymLoyox",
        "outputId": "2eba62ae-cb83-40be-b96a-cfadf9ec765d"
      },
      "execution_count": null,
      "outputs": [
        {
          "output_type": "stream",
          "name": "stdout",
          "text": [
            "Ah, a question that stirs both frustration and a sense of accomplishment. Being a woman in science, especially in the early 20th century, was akin to navigating a labyrinth with invisible walls. \n",
            "\n",
            "The first and most formidable challenge was simply being taken seriously. The world of academia was a male bastion, and few believed women possessed the intellectual capacity for serious scientific inquiry. Doors were closed, opportunities withheld, and my work often dismissed as a mere footnote to my husband's achievements. \n",
            "\n",
            "Then there were the practical hurdles: limited access to labs and research funds, the pervasive prejudice that hindered collaborations, and the persistent need to prove myself, not just as a scientist, but as an equal to my male colleagues.  \n",
            "\n",
            "But let me assure you, these obstacles, while formidable, never deterred me.  I had a passion for science, a drive to unravel the mysteries of the universe, and a belief that my contributions could stand on their own merit. \n",
            "\n",
            "It was not easy, my dear. It demanded unwavering dedication, a thick skin, and a relentless pursuit of knowledge. But in the face of adversity, I found my strength, and my work, I believe, speaks volumes about the potential that lies dormant when women are allowed to flourish in the world of science. \n",
            "\n"
          ]
        }
      ]
    },
    {
      "cell_type": "markdown",
      "source": [
        "## 6. Multi-Document Scientific Literature Review:"
      ],
      "metadata": {
        "id": "oDM3KErcpFm_"
      }
    },
    {
      "cell_type": "code",
      "source": [
        "def review_literature(research_question, document_texts):\n",
        "  prompt = f\"\"\"\n",
        "  Based on the following research question: {research_question}\n",
        "\n",
        "  Synthesize the information presented in the following documents and provide a comprehensive overview of the current state of research, identify key findings and controversies, and suggest potential areas for future research:\n",
        "\n",
        "  {document_texts}\n",
        "  \"\"\"\n",
        "  response = genai.GenerativeModel(\"gemini-1.5-flash\").generate_content(prompt)\n",
        "  return response.text\n",
        "\n",
        "# Example Usage (replace with actual research question and document texts)\n",
        "research_question = \"What are the effects of climate change on coral reef ecosystems?\"\n",
        "document_texts = [\"... Climate Change and Coral Reefs: An Emerging Global Concern by Hoegh-Guldberg et al. (2007) Summary: This influential paper discusses how climate change impacts coral reefs through various mechanisms, including ocean warming, acidification, and increased frequency of severe weather events. The authors highlight the following key points: Coral Bleaching: Elevated sea temperatures lead to coral bleaching, where corals expel their symbiotic zooxanthellae, resulting in a loss of color and essential nutrients. Prolonged bleaching can lead to coral death and reduced reef structure. Ocean Acidification: Increased CO2 levels reduce the availability of calcium carbonate, which corals use to build their skeletons. This acidification impairs coral growth and the ability to maintain reef structures. Extreme Weather Events: More frequent and intense storms cause physical damage to reefs, exacerbate sedimentation, and impact coral health ...\", \"... The Effects of Climate Change on Coral Reef Ecosystems by Bellwood et al. (2004) Summary: This paper explores the broader ecological consequences of climate change on coral reefs, focusing on shifts in species composition and ecosystem dynamics. Key findings include: Changes in Biodiversity: Climate change can alter species distributions and interactions within coral reef ecosystems. For example, warming waters might favor certain algal species over corals, leading to shifts in reef community structure. Ecosystem Services: Coral reefs provide essential services such as fish habitat, coastal protection, and tourism opportunities. Climate-induced degradation can diminish these services, impacting human communities that depend on reefs for their livelihoods. Resilience and Adaptation: The study discusses the potential for some coral species and ecosystems to adapt to changing conditions. However, the capacity for resilience is often limited, and effective management strategies are necessary to support adaptation and recovery. ...\", ...]\n",
        "literature_review = review_literature(research_question, document_texts)\n",
        "print(literature_review)"
      ],
      "metadata": {
        "colab": {
          "base_uri": "https://localhost:8080/",
          "height": 632
        },
        "id": "gfo1X8M3o_8M",
        "outputId": "2d58394d-7833-44c4-a583-b3c1ac96ccc2"
      },
      "execution_count": 19,
      "outputs": [
        {
          "output_type": "stream",
          "name": "stdout",
          "text": [
            "## Climate Change and Coral Reefs: A Synthesis of Current Research\n",
            "\n",
            "**Research Question:** What are the effects of climate change on coral reef ecosystems?\n",
            "\n",
            "**Overview:**\n",
            "\n",
            "The research on climate change's effects on coral reefs is extensive and reveals a complex and multifaceted issue. Two seminal papers, by Hoegh-Guldberg et al. (2007) and Bellwood et al. (2004), provide a robust foundation for understanding the issue. These papers highlight the primary mechanisms through which climate change impacts coral reefs and the cascading effects on ecosystem function and human communities.\n",
            "\n",
            "**Key Findings:**\n",
            "\n",
            "* **Coral Bleaching:** Elevated sea temperatures due to climate change cause corals to expel their symbiotic algae (zooxanthellae), leading to bleaching. Prolonged bleaching can lead to coral death, compromising reef structure and impacting the entire ecosystem.\n",
            "* **Ocean Acidification:**  Increased atmospheric CO2 levels lead to ocean acidification, decreasing the availability of calcium carbonate, a vital component for coral skeleton building. This impairs coral growth, compromising the structural integrity of reefs.\n",
            "* **Extreme Weather Events:** More frequent and intense storms damage coral reefs through physical impacts, increased sedimentation, and exacerbated coral stress, further impacting reef health.\n",
            "* **Changes in Biodiversity:** Climate change influences species distributions and interactions within coral reef ecosystems. Warming waters can favor certain algal species over corals, leading to shifts in reef community structure and impacting the food web.\n",
            "* **Ecosystem Services Degradation:** Coral reefs provide crucial services like fish habitat, coastal protection, and tourism opportunities. Climate-induced degradation diminishes these services, impacting the livelihoods of human communities dependent on reefs.\n",
            "* **Resilience and Adaptation:** While some corals and ecosystems may exhibit resilience and adapt to changing conditions, the capacity for adaptation is limited. Effective management strategies are crucial to support recovery and enhance resilience.\n",
            "\n",
            "**Controversies:**\n",
            "\n",
            "* **Rate of Change:** While there's consensus on climate change's impacts, the exact rate of coral reef degradation and the timescale for adaptation remain areas of active debate. \n",
            "* **Resilience and Recovery:** The extent to which coral reefs can recover from damage and adapt to changing conditions is not fully understood. The role of human intervention and management strategies in supporting recovery is actively researched.\n",
            "* **Predicting Future Impacts:** Accurately predicting the future impacts of climate change on coral reefs remains challenging due to complex interactions and uncertainties in future climate scenarios.\n",
            "\n",
            "**Future Research Areas:**\n",
            "\n",
            "* **Predictive Modeling:** Improving models to predict the future impacts of climate change on specific coral reef ecosystems, accounting for regional variations and local stressors.\n",
            "* **Coral Resilience Mechanisms:** Investigating the mechanisms of resilience in corals and reef ecosystems, focusing on identifying factors promoting adaptation and recovery.\n",
            "* **Management Strategies:** Developing and testing effective management strategies to mitigate climate change impacts, promote coral reef resilience, and support sustainable resource utilization.\n",
            "* **Community Engagement:** Encouraging community participation in coral reef conservation efforts, empowering local communities to manage their resources sustainably and adapt to changing environments.\n",
            "* **Economic Valuation:** Quantifying the economic value of coral reef services to highlight the societal impacts of climate change and inform decision-making.\n",
            "\n",
            "**Conclusion:**\n",
            "\n",
            "Climate change poses a significant threat to coral reef ecosystems, impacting their structure, function, and the human communities that depend on them. Research continues to reveal the complex interplay of factors influencing coral reefs and inform strategies to mitigate impacts, enhance resilience, and support recovery. Addressing this complex challenge requires collaborative efforts from scientists, policymakers, and communities to ensure the future of these vital ecosystems. \n",
            "\n"
          ]
        }
      ]
    },
    {
      "cell_type": "markdown",
      "source": [
        "## 7. Long-Form Content Generation from Outlines:"
      ],
      "metadata": {
        "id": "Q0ZRzYUItF-v"
      }
    },
    {
      "cell_type": "code",
      "source": [
        "\n",
        "import google.generativeai as genai\n",
        "# ... (API key setup)\n",
        "\n",
        "def generate_article(outline):\n",
        "  prompt = f\"\"\"\n",
        "  Write a well-structured and informative article based on the following outline:\n",
        "\n",
        "  {outline}\n",
        "\n",
        "  The article should be engaging, factual, and provide a comprehensive overview of the topic.\n",
        "  \"\"\"\n",
        "  response = genai.GenerativeModel(\"gemini-1.5-flash\").generate_content(prompt)\n",
        "  return response.text\n",
        "\n",
        "# Example Usage (replace with an actual outline)\n",
        "outline = \"\"\"\n",
        "## The Rise of Artificial Intelligence\n",
        "\n",
        "I. Introduction\n",
        "  A. Brief history of AI\n",
        "  B. Defining AI and its key concepts\n",
        "II. Current Applications of AI\n",
        "  A. AI in Healthcare\n",
        "  B. AI in Finance\n",
        "  C. AI in Transportation\n",
        "III. The Future of AI\n",
        "  A. Potential benefits and risks\n",
        "  B. Ethical considerations\n",
        "IV. Conclusion\n",
        "\"\"\"\n",
        "\n",
        "article = generate_article(outline)\n",
        "print(article)"
      ],
      "metadata": {
        "id": "NXSRjG7Dqt5n",
        "colab": {
          "base_uri": "https://localhost:8080/",
          "height": 904
        },
        "outputId": "ccd3cab5-8d72-4db3-b8e5-8092984608eb"
      },
      "execution_count": 20,
      "outputs": [
        {
          "output_type": "stream",
          "name": "stdout",
          "text": [
            "## The Rise of Artificial Intelligence: Transforming the World We Know\n",
            "\n",
            "**I. Introduction**\n",
            "\n",
            "The concept of artificial intelligence (AI) has captivated imaginations for centuries. From ancient Greek myths of mechanical beings to the modern-day advancements in robotics and machine learning, the pursuit of creating intelligent machines has been a long and fascinating journey. \n",
            "\n",
            "**A. Brief History of AI**\n",
            "\n",
            "The seeds of AI were sown in the mid-20th century, with pioneers like Alan Turing and John McCarthy laying the groundwork for the field. The early years saw the development of foundational concepts like the Turing Test and the birth of the first AI programs. However, the field faced a period of stagnation due to limitations in computing power and data availability.\n",
            "\n",
            "**B. Defining AI and Its Key Concepts**\n",
            "\n",
            "AI encompasses a broad range of technologies and techniques that enable machines to mimic human intelligence. Key concepts include:\n",
            "\n",
            "* **Machine Learning:** Algorithms that enable computers to learn from data without explicit programming.\n",
            "* **Deep Learning:** A subset of machine learning that uses artificial neural networks to process information in complex ways.\n",
            "* **Natural Language Processing (NLP):** Techniques that allow computers to understand and generate human language.\n",
            "* **Computer Vision:** Enables computers to \"see\" and interpret images and videos.\n",
            "\n",
            "**II. Current Applications of AI**\n",
            "\n",
            "The past decade has witnessed a dramatic surge in AI applications, transforming industries across the globe.\n",
            "\n",
            "**A. AI in Healthcare**\n",
            "\n",
            "AI is revolutionizing healthcare by aiding in diagnosis, drug discovery, and personalized medicine. Machine learning algorithms can analyze medical images to detect diseases like cancer earlier and more accurately. AI-powered chatbots provide virtual care and support to patients.\n",
            "\n",
            "**B. AI in Finance**\n",
            "\n",
            "AI is transforming financial services by automating tasks, improving risk assessment, and personalizing financial advice. Fraud detection systems powered by AI are safeguarding transactions, while robo-advisors are helping individuals manage their investments.\n",
            "\n",
            "**C. AI in Transportation**\n",
            "\n",
            "Self-driving cars are becoming increasingly common, thanks to advances in AI and computer vision. AI is also being used to optimize traffic flow, improve logistics, and enhance the safety of transportation systems.\n",
            "\n",
            "**III. The Future of AI**\n",
            "\n",
            "The future of AI is brimming with both immense promise and potential pitfalls.\n",
            "\n",
            "**A. Potential Benefits and Risks**\n",
            "\n",
            "AI has the potential to solve some of the world's most pressing challenges, from climate change to poverty. It can enhance productivity, create new industries, and improve quality of life. However, there are also concerns about job displacement, algorithmic bias, and the potential misuse of AI for malicious purposes.\n",
            "\n",
            "**B. Ethical Considerations**\n",
            "\n",
            "As AI becomes increasingly powerful, it is crucial to address the ethical implications of its use. This includes ensuring fairness and transparency in AI systems, addressing potential biases, and protecting privacy.\n",
            "\n",
            "**IV. Conclusion**\n",
            "\n",
            "Artificial intelligence is no longer a futuristic concept but a reality shaping our world. Its impact is already being felt in diverse sectors, and its future holds immense potential for both progress and disruption. It is imperative that we continue to develop and deploy AI responsibly, focusing on its ethical implications and ensuring that it serves humanity's best interests. As we navigate this technological revolution, we must remember that AI is a tool – a powerful tool that can be used for good or ill. The choices we make today will determine the future of AI and its impact on generations to come. \n",
            "\n"
          ]
        }
      ]
    },
    {
      "cell_type": "markdown",
      "source": [
        "## 8. Advanced Chatbot with Memory and Personality:"
      ],
      "metadata": {
        "id": "bGeqiPDltOLn"
      }
    },
    {
      "cell_type": "code",
      "source": [
        "def chatbot_response(conversation_history, user_input, bot_persona):\n",
        "  prompt = f\"\"\"\n",
        "  The following is a conversation history with a chatbot:\n",
        "  {conversation_history}\n",
        "\n",
        "  The chatbot has the following persona: {bot_persona}\n",
        "\n",
        "  The user has just said: {user_input}\n",
        "\n",
        "  Respond as the chatbot, maintaining the persona and taking the conversation history into account.\n",
        "  \"\"\"\n",
        "  response = genai.GenerativeModel(\"gemini-1.5-flash\").generate_content(prompt)\n",
        "  return response.text\n",
        "\n",
        "# Example Usage (replace with actual history, input, and persona)\n",
        "conversation_history = [\n",
        "  {\"user\": \"Hello\", \"bot\": \"Greetings! How can I assist you today?\"},\n",
        "  # ... (More conversation turns)\n",
        "]\n",
        "\n",
        "user_input = \"Tell me a joke.\"\n",
        "bot_persona = \"A friendly and helpful AI assistant with a witty sense of humor.\"\n",
        "bot_response = chatbot_response(conversation_history, user_input, bot_persona)\n",
        "print(bot_response)"
      ],
      "metadata": {
        "colab": {
          "base_uri": "https://localhost:8080/",
          "height": 51
        },
        "id": "bNDP1GTUtKXs",
        "outputId": "358e85bf-86a0-4491-d237-6034aa6978ab"
      },
      "execution_count": 21,
      "outputs": [
        {
          "output_type": "stream",
          "name": "stdout",
          "text": [
            "Okay, you want a joke?  Here's one:  Why don't scientists trust atoms?  Because they make up everything! 😂 \n",
            "\n"
          ]
        }
      ]
    },
    {
      "cell_type": "markdown",
      "source": [
        "## 9. Personalized News and Content Aggregation:"
      ],
      "metadata": {
        "id": "0Dk9nAk-u4U6"
      }
    },
    {
      "cell_type": "code",
      "source": [
        "def get_personalized_news(user_profile, news_sources):\n",
        "  prompt = f\"\"\"\n",
        "  I have a user with the following profile:\n",
        "  {user_profile}\n",
        "\n",
        "  Based on their interests, summarize the most relevant and important news stories from the following sources: {news_sources}\n",
        "\n",
        "  The summary should be concise, informative, and engaging, tailored to the user's preferences.\n",
        "  \"\"\"\n",
        "  response = genai.GenerativeModel(\"gemini-1.5-flash\").generate_content(prompt)\n",
        "  return response.text\n",
        "\n",
        "# Example Usage\n",
        "user_profile = {\n",
        "  \"interests\": [\"technology\", \"artificial intelligence\", \"space exploration\"],\n",
        "  \"preferred_sources\": [\"The Verge\", \"MIT Technology Review\", \"Space.com\"],\n",
        "  \"reading_level\": \"advanced\"\n",
        "}\n",
        "\n",
        "news_sources = [\"The New York Times\", \"BBC News\", \"Wired\", \"The Verge\", \"MIT Technology Review\", \"Space.com\"]\n",
        "news_summary = get_personalized_news(user_profile, news_sources)\n",
        "print(news_summary)"
      ],
      "metadata": {
        "colab": {
          "base_uri": "https://localhost:8080/",
          "height": 309
        },
        "id": "wsXaWW1LuHRh",
        "outputId": "292b55d0-e053-4c19-8676-eb22cb9745b3"
      },
      "execution_count": 22,
      "outputs": [
        {
          "output_type": "stream",
          "name": "stdout",
          "text": [
            "## Tech, AI, and Space: Your Weekly Digest\n",
            "\n",
            "**The Verge:** This week, Google unveiled a new AI model that can generate realistic images from text prompts, pushing the boundaries of what's possible with artificial intelligence.  \n",
            "\n",
            "**MIT Technology Review:**  Scientists at MIT have made significant progress in developing a new type of solar cell that can generate electricity even in low-light conditions, potentially revolutionizing renewable energy.\n",
            "\n",
            "**Space.com:** The James Webb Space Telescope continues to deliver incredible images, this time capturing stunning details of a distant star nursery, offering new insights into the process of star formation. \n",
            "\n",
            "**Wired:** Elon Musk's Neuralink has received approval to begin human trials of its brain-computer interface, marking a significant step towards integrating technology directly with the human brain.\n",
            "\n",
            "**Bonus**:  **The New York Times** has an interesting piece on the growing ethical concerns surrounding AI, particularly in the context of autonomous weapons systems. \n",
            "\n",
            "**Keep an eye out**:  **BBC News** is reporting on the upcoming launch of a new mission to Mars, aiming to search for signs of past life. \n",
            "\n",
            "This week has been brimming with groundbreaking developments in technology, AI, and space exploration. Stay tuned for more exciting updates! \n",
            "\n"
          ]
        }
      ]
    },
    {
      "cell_type": "markdown",
      "source": [
        "## 10. Code Explanation and Debugging with Context:"
      ],
      "metadata": {
        "id": "JFj6QERavjBX"
      }
    },
    {
      "cell_type": "code",
      "source": [
        "def explain_and_debug_code(code, context, question):\n",
        "  prompt = f\"\"\"\n",
        "            I have the following code:\n",
        "            ```python\n",
        "            {code}\n",
        "            Use code with caution.\n",
        "            Python\n",
        "            It is part of a larger project where I am trying to achieve the following:\n",
        "            {context}\n",
        "\n",
        "            I am having trouble with the code because:\n",
        "            {question}\n",
        "\n",
        "            Can you explain what this code does, identify any potential errors, and suggest ways to fix it, considering the context of the project?\n",
        "            \"\"\"\n",
        "  response = genai.GenerativeModel(\"gemini-1.5-flash\").generate_content(prompt)\n",
        "  return response.text\n",
        "\n",
        "# Example Usage\n",
        "code = \"\"\"\n",
        "def calculate_average(numbers):\n",
        "total = sum(numbers)\n",
        "return total / len(numbers)\n",
        "\n",
        "my_list = [10, 20, \"30\", 40]\n",
        "average = calculate_average(my_list)\n",
        "print(average)\n",
        "\"\"\"\n",
        "\n",
        "context = \"I am building a program to calculate the average of a list of numbers that are input by the user.\"\n",
        "question = \"When I run this code, I get a TypeError. I'm not sure why.\"\n",
        "explanation = explain_and_debug_code(code, context, question)\n",
        "print(explanation)"
      ],
      "metadata": {
        "colab": {
          "base_uri": "https://localhost:8080/",
          "height": 1000
        },
        "id": "BYiZrZDAu0xg",
        "outputId": "a81cfd6c-9c2d-454c-ec92-4b690ff7b18c"
      },
      "execution_count": 23,
      "outputs": [
        {
          "output_type": "stream",
          "name": "stdout",
          "text": [
            "You are absolutely right to be cautious! The code you provided has a potential error that can lead to a `TypeError`. Here's a breakdown:\n",
            "\n",
            "**What the code does:**\n",
            "\n",
            "1. **`calculate_average(numbers)` function:**\n",
            "   - Takes a list of numbers (`numbers`) as input.\n",
            "   - Calculates the `total` sum of all elements in the list using `sum(numbers)`.\n",
            "   - Calculates the average by dividing the `total` by the number of elements in the list (`len(numbers)`).\n",
            "   - Returns the calculated average.\n",
            "\n",
            "2. **`my_list = [10, 20, \"30\", 40]`:**\n",
            "   - Defines a list named `my_list`. It contains integers (10, 20, 40) and a string (\"30\").\n",
            "\n",
            "3. **`average = calculate_average(my_list)`:**\n",
            "   - Calls the `calculate_average` function with `my_list` as input.\n",
            "\n",
            "4. **`print(average)`:**\n",
            "   - Prints the calculated average to the console.\n",
            "\n",
            "**The Error:**\n",
            "\n",
            "The `TypeError` arises because the `sum()` function in Python expects all elements in the list to be numeric. You have a string (\"30\") in your `my_list`, causing a type mismatch when `sum()` tries to add it to the other numbers. \n",
            "\n",
            "**Solution:**\n",
            "\n",
            "To fix this, you need to ensure that all elements in your list are numbers before passing them to the `calculate_average` function. You can achieve this by converting the string \"30\" to an integer using `int()`:\n",
            "\n",
            "```python\n",
            "def calculate_average(numbers):\n",
            "    total = sum(numbers)\n",
            "    return total / len(numbers)\n",
            "\n",
            "my_list = [10, 20, \"30\", 40]\n",
            "# Convert the string to an integer\n",
            "my_list[2] = int(my_list[2])\n",
            "average = calculate_average(my_list)\n",
            "print(average)\n",
            "```\n",
            "\n",
            "**Important Considerations:**\n",
            "\n",
            "* **User Input:** Since you are building a program to take input from the user, you need to handle the input appropriately. Use the `input()` function to get user input, and convert the input to numbers using `int()` or `float()`, depending on the expected data type.\n",
            "* **Error Handling:** Implement error handling to gracefully deal with cases where the user might input non-numeric data. You can use a `try-except` block to catch potential `ValueError` exceptions.\n",
            "\n",
            "**Example with User Input and Error Handling:**\n",
            "\n",
            "```python\n",
            "def calculate_average():\n",
            "    numbers = []\n",
            "    while True:\n",
            "        try:\n",
            "            user_input = input(\"Enter a number (or 'done' to finish): \")\n",
            "            if user_input.lower() == \"done\":\n",
            "                break\n",
            "            numbers.append(float(user_input))  # Use float to allow decimals\n",
            "        except ValueError:\n",
            "            print(\"Invalid input. Please enter a number.\")\n",
            "\n",
            "    if numbers:\n",
            "        total = sum(numbers)\n",
            "        average = total / len(numbers)\n",
            "        print(\"The average is:\", average)\n",
            "    else:\n",
            "        print(\"No numbers were entered.\")\n",
            "\n",
            "calculate_average()\n",
            "```\n",
            "\n",
            "This example will continuously prompt the user to enter numbers until they type \"done.\" It also includes error handling to catch non-numeric input and provide feedback to the user. \n",
            "\n"
          ]
        }
      ]
    },
    {
      "cell_type": "code",
      "source": [],
      "metadata": {
        "id": "tz3ejPPivZON"
      },
      "execution_count": null,
      "outputs": []
    }
  ]
}